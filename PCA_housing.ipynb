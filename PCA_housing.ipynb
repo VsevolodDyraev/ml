{
  "nbformat": 4,
  "nbformat_minor": 0,
  "metadata": {
    "colab": {
      "provenance": []
    },
    "kernelspec": {
      "name": "python3",
      "display_name": "Python 3"
    },
    "language_info": {
      "name": "python"
    }
  },
  "cells": [
    {
      "cell_type": "code",
      "execution_count": 168,
      "metadata": {
        "id": "g6eF8lh1ODza"
      },
      "outputs": [],
      "source": [
        "import numpy as np              # Массивы (матрицы, векторы, линейная алгебра)\n",
        "import matplotlib.pyplot as plt # Научная графика\n",
        "import pandas as pd             # Таблицы и временные ряды (dataframe, series)\n",
        "import seaborn as sns           # Еще больше красивой графики для визуализации данных\n",
        "import sklearn                  # Алгоритмы машинного обучения\n"
      ]
    },
    {
      "cell_type": "code",
      "source": [
        "data = pd.read_csv('housing.csv')"
      ],
      "metadata": {
        "id": "_e8PrEcfOeiE"
      },
      "execution_count": 169,
      "outputs": []
    },
    {
      "cell_type": "code",
      "source": [
        "data['ocean_proximity'] = data['ocean_proximity'].astype('category')\n",
        "\n",
        "\n",
        "data_new = data\n",
        "\n",
        "Ocean_proximity_dummies = pd.get_dummies(data['ocean_proximity'])\n",
        "data_new = pd.concat((data_new, Ocean_proximity_dummies), axis=1)\n",
        "\n",
        "data_new = data_new.drop(['ocean_proximity'], axis=1)\n",
        "data_new = data_new.drop(['longitude'], axis=1)\n",
        "data_new = data_new.drop(['latitude'], axis=1)\n"
      ],
      "metadata": {
        "id": "weKKCniEOiWr"
      },
      "execution_count": 170,
      "outputs": []
    },
    {
      "cell_type": "code",
      "source": [
        "data_new['total_bedrooms'].fillna(data_new['total_bedrooms'].mode().iloc[0], inplace=True)\n",
        "data_new.head()"
      ],
      "metadata": {
        "colab": {
          "base_uri": "https://localhost:8080/",
          "height": 206
        },
        "id": "i6LPq_pNO57M",
        "outputId": "5f979c5f-3a2d-4ca3-e2dc-ce40af084558"
      },
      "execution_count": 171,
      "outputs": [
        {
          "output_type": "execute_result",
          "data": {
            "text/plain": [
              "   housing_median_age  total_rooms  total_bedrooms  population  households  \\\n",
              "0                41.0        880.0           129.0       322.0       126.0   \n",
              "1                21.0       7099.0          1106.0      2401.0      1138.0   \n",
              "2                52.0       1467.0           190.0       496.0       177.0   \n",
              "3                52.0       1274.0           235.0       558.0       219.0   \n",
              "4                52.0       1627.0           280.0       565.0       259.0   \n",
              "\n",
              "   median_income  median_house_value  <1H OCEAN  INLAND  ISLAND  NEAR BAY  \\\n",
              "0         8.3252            452600.0          0       0       0         1   \n",
              "1         8.3014            358500.0          0       0       0         1   \n",
              "2         7.2574            352100.0          0       0       0         1   \n",
              "3         5.6431            341300.0          0       0       0         1   \n",
              "4         3.8462            342200.0          0       0       0         1   \n",
              "\n",
              "   NEAR OCEAN  \n",
              "0           0  \n",
              "1           0  \n",
              "2           0  \n",
              "3           0  \n",
              "4           0  "
            ],
            "text/html": [
              "\n",
              "  <div id=\"df-6941137d-f421-426f-8627-433bba5d4c8a\">\n",
              "    <div class=\"colab-df-container\">\n",
              "      <div>\n",
              "<style scoped>\n",
              "    .dataframe tbody tr th:only-of-type {\n",
              "        vertical-align: middle;\n",
              "    }\n",
              "\n",
              "    .dataframe tbody tr th {\n",
              "        vertical-align: top;\n",
              "    }\n",
              "\n",
              "    .dataframe thead th {\n",
              "        text-align: right;\n",
              "    }\n",
              "</style>\n",
              "<table border=\"1\" class=\"dataframe\">\n",
              "  <thead>\n",
              "    <tr style=\"text-align: right;\">\n",
              "      <th></th>\n",
              "      <th>housing_median_age</th>\n",
              "      <th>total_rooms</th>\n",
              "      <th>total_bedrooms</th>\n",
              "      <th>population</th>\n",
              "      <th>households</th>\n",
              "      <th>median_income</th>\n",
              "      <th>median_house_value</th>\n",
              "      <th>&lt;1H OCEAN</th>\n",
              "      <th>INLAND</th>\n",
              "      <th>ISLAND</th>\n",
              "      <th>NEAR BAY</th>\n",
              "      <th>NEAR OCEAN</th>\n",
              "    </tr>\n",
              "  </thead>\n",
              "  <tbody>\n",
              "    <tr>\n",
              "      <th>0</th>\n",
              "      <td>41.0</td>\n",
              "      <td>880.0</td>\n",
              "      <td>129.0</td>\n",
              "      <td>322.0</td>\n",
              "      <td>126.0</td>\n",
              "      <td>8.3252</td>\n",
              "      <td>452600.0</td>\n",
              "      <td>0</td>\n",
              "      <td>0</td>\n",
              "      <td>0</td>\n",
              "      <td>1</td>\n",
              "      <td>0</td>\n",
              "    </tr>\n",
              "    <tr>\n",
              "      <th>1</th>\n",
              "      <td>21.0</td>\n",
              "      <td>7099.0</td>\n",
              "      <td>1106.0</td>\n",
              "      <td>2401.0</td>\n",
              "      <td>1138.0</td>\n",
              "      <td>8.3014</td>\n",
              "      <td>358500.0</td>\n",
              "      <td>0</td>\n",
              "      <td>0</td>\n",
              "      <td>0</td>\n",
              "      <td>1</td>\n",
              "      <td>0</td>\n",
              "    </tr>\n",
              "    <tr>\n",
              "      <th>2</th>\n",
              "      <td>52.0</td>\n",
              "      <td>1467.0</td>\n",
              "      <td>190.0</td>\n",
              "      <td>496.0</td>\n",
              "      <td>177.0</td>\n",
              "      <td>7.2574</td>\n",
              "      <td>352100.0</td>\n",
              "      <td>0</td>\n",
              "      <td>0</td>\n",
              "      <td>0</td>\n",
              "      <td>1</td>\n",
              "      <td>0</td>\n",
              "    </tr>\n",
              "    <tr>\n",
              "      <th>3</th>\n",
              "      <td>52.0</td>\n",
              "      <td>1274.0</td>\n",
              "      <td>235.0</td>\n",
              "      <td>558.0</td>\n",
              "      <td>219.0</td>\n",
              "      <td>5.6431</td>\n",
              "      <td>341300.0</td>\n",
              "      <td>0</td>\n",
              "      <td>0</td>\n",
              "      <td>0</td>\n",
              "      <td>1</td>\n",
              "      <td>0</td>\n",
              "    </tr>\n",
              "    <tr>\n",
              "      <th>4</th>\n",
              "      <td>52.0</td>\n",
              "      <td>1627.0</td>\n",
              "      <td>280.0</td>\n",
              "      <td>565.0</td>\n",
              "      <td>259.0</td>\n",
              "      <td>3.8462</td>\n",
              "      <td>342200.0</td>\n",
              "      <td>0</td>\n",
              "      <td>0</td>\n",
              "      <td>0</td>\n",
              "      <td>1</td>\n",
              "      <td>0</td>\n",
              "    </tr>\n",
              "  </tbody>\n",
              "</table>\n",
              "</div>\n",
              "      <button class=\"colab-df-convert\" onclick=\"convertToInteractive('df-6941137d-f421-426f-8627-433bba5d4c8a')\"\n",
              "              title=\"Convert this dataframe to an interactive table.\"\n",
              "              style=\"display:none;\">\n",
              "        \n",
              "  <svg xmlns=\"http://www.w3.org/2000/svg\" height=\"24px\"viewBox=\"0 0 24 24\"\n",
              "       width=\"24px\">\n",
              "    <path d=\"M0 0h24v24H0V0z\" fill=\"none\"/>\n",
              "    <path d=\"M18.56 5.44l.94 2.06.94-2.06 2.06-.94-2.06-.94-.94-2.06-.94 2.06-2.06.94zm-11 1L8.5 8.5l.94-2.06 2.06-.94-2.06-.94L8.5 2.5l-.94 2.06-2.06.94zm10 10l.94 2.06.94-2.06 2.06-.94-2.06-.94-.94-2.06-.94 2.06-2.06.94z\"/><path d=\"M17.41 7.96l-1.37-1.37c-.4-.4-.92-.59-1.43-.59-.52 0-1.04.2-1.43.59L10.3 9.45l-7.72 7.72c-.78.78-.78 2.05 0 2.83L4 21.41c.39.39.9.59 1.41.59.51 0 1.02-.2 1.41-.59l7.78-7.78 2.81-2.81c.8-.78.8-2.07 0-2.86zM5.41 20L4 18.59l7.72-7.72 1.47 1.35L5.41 20z\"/>\n",
              "  </svg>\n",
              "      </button>\n",
              "      \n",
              "  <style>\n",
              "    .colab-df-container {\n",
              "      display:flex;\n",
              "      flex-wrap:wrap;\n",
              "      gap: 12px;\n",
              "    }\n",
              "\n",
              "    .colab-df-convert {\n",
              "      background-color: #E8F0FE;\n",
              "      border: none;\n",
              "      border-radius: 50%;\n",
              "      cursor: pointer;\n",
              "      display: none;\n",
              "      fill: #1967D2;\n",
              "      height: 32px;\n",
              "      padding: 0 0 0 0;\n",
              "      width: 32px;\n",
              "    }\n",
              "\n",
              "    .colab-df-convert:hover {\n",
              "      background-color: #E2EBFA;\n",
              "      box-shadow: 0px 1px 2px rgba(60, 64, 67, 0.3), 0px 1px 3px 1px rgba(60, 64, 67, 0.15);\n",
              "      fill: #174EA6;\n",
              "    }\n",
              "\n",
              "    [theme=dark] .colab-df-convert {\n",
              "      background-color: #3B4455;\n",
              "      fill: #D2E3FC;\n",
              "    }\n",
              "\n",
              "    [theme=dark] .colab-df-convert:hover {\n",
              "      background-color: #434B5C;\n",
              "      box-shadow: 0px 1px 3px 1px rgba(0, 0, 0, 0.15);\n",
              "      filter: drop-shadow(0px 1px 2px rgba(0, 0, 0, 0.3));\n",
              "      fill: #FFFFFF;\n",
              "    }\n",
              "  </style>\n",
              "\n",
              "      <script>\n",
              "        const buttonEl =\n",
              "          document.querySelector('#df-6941137d-f421-426f-8627-433bba5d4c8a button.colab-df-convert');\n",
              "        buttonEl.style.display =\n",
              "          google.colab.kernel.accessAllowed ? 'block' : 'none';\n",
              "\n",
              "        async function convertToInteractive(key) {\n",
              "          const element = document.querySelector('#df-6941137d-f421-426f-8627-433bba5d4c8a');\n",
              "          const dataTable =\n",
              "            await google.colab.kernel.invokeFunction('convertToInteractive',\n",
              "                                                     [key], {});\n",
              "          if (!dataTable) return;\n",
              "\n",
              "          const docLinkHtml = 'Like what you see? Visit the ' +\n",
              "            '<a target=\"_blank\" href=https://colab.research.google.com/notebooks/data_table.ipynb>data table notebook</a>'\n",
              "            + ' to learn more about interactive tables.';\n",
              "          element.innerHTML = '';\n",
              "          dataTable['output_type'] = 'display_data';\n",
              "          await google.colab.output.renderOutput(dataTable, element);\n",
              "          const docLink = document.createElement('div');\n",
              "          docLink.innerHTML = docLinkHtml;\n",
              "          element.appendChild(docLink);\n",
              "        }\n",
              "      </script>\n",
              "    </div>\n",
              "  </div>\n",
              "  "
            ]
          },
          "metadata": {},
          "execution_count": 171
        }
      ]
    },
    {
      "cell_type": "code",
      "source": [
        "data_stand = (data_new - data_new.mean(axis = 0))/data_new.std(axis = 0)"
      ],
      "metadata": {
        "id": "H1RW-zaQXUe7"
      },
      "execution_count": 172,
      "outputs": []
    },
    {
      "cell_type": "code",
      "source": [
        "for i in range(len(data_stand)):\n",
        "  if data_stand['median_income'][i]>0:\n",
        "    data_stand['median_income'][i] = 1\n",
        "  else :\n",
        "    data_stand['median_income'][i] = 0\n",
        "data_stand\n"
      ],
      "metadata": {
        "colab": {
          "base_uri": "https://localhost:8080/",
          "height": 485
        },
        "id": "EctYkkWLT7fW",
        "outputId": "29088a36-14d2-44f5-f069-a5af09ed170b"
      },
      "execution_count": 173,
      "outputs": [
        {
          "output_type": "execute_result",
          "data": {
            "text/plain": [
              "       housing_median_age  total_rooms  total_bedrooms  population  \\\n",
              "0                0.982119    -0.804800       -0.967221   -0.974405   \n",
              "1               -0.607004     2.045841        1.358675    0.861418   \n",
              "2                1.856137    -0.535733       -0.822001   -0.820757   \n",
              "3                1.856137    -0.624199       -0.714872   -0.766010   \n",
              "4                1.856137    -0.462393       -0.607743   -0.759828   \n",
              "...                   ...          ...             ...         ...   \n",
              "20635           -0.289180    -0.444974       -0.383962   -0.512579   \n",
              "20636           -0.845373    -0.888682       -0.917227   -0.944382   \n",
              "20637           -0.924829    -0.174991       -0.119709   -0.369528   \n",
              "20638           -0.845373    -0.355591       -0.300639   -0.604415   \n",
              "20639           -1.004285     0.068407        0.192156   -0.033976   \n",
              "\n",
              "       households  median_income  median_house_value  <1H OCEAN    INLAND  \\\n",
              "0       -0.977009            1.0            2.129580  -0.891134 -0.681873   \n",
              "1        1.669921            1.0            1.314124  -0.891134 -0.681873   \n",
              "2       -0.843616            1.0            1.258663  -0.891134 -0.681873   \n",
              "3       -0.733764            1.0            1.165072  -0.891134 -0.681873   \n",
              "4       -0.629142            0.0            1.172871  -0.891134 -0.681873   \n",
              "...           ...            ...                 ...        ...       ...   \n",
              "20635   -0.443438            0.0           -1.115777  -0.891134  1.466479   \n",
              "20636   -1.008396            0.0           -1.124443  -0.891134  1.466479   \n",
              "20637   -0.174037            0.0           -0.992722  -0.891134  1.466479   \n",
              "20638   -0.393743            0.0           -1.058583  -0.891134  1.466479   \n",
              "20639    0.079670            0.0           -1.017853  -0.891134  1.466479   \n",
              "\n",
              "         ISLAND  NEAR BAY  NEAR OCEAN  \n",
              "0     -0.015566  2.830673   -0.384457  \n",
              "1     -0.015566  2.830673   -0.384457  \n",
              "2     -0.015566  2.830673   -0.384457  \n",
              "3     -0.015566  2.830673   -0.384457  \n",
              "4     -0.015566  2.830673   -0.384457  \n",
              "...         ...       ...         ...  \n",
              "20635 -0.015566 -0.353256   -0.384457  \n",
              "20636 -0.015566 -0.353256   -0.384457  \n",
              "20637 -0.015566 -0.353256   -0.384457  \n",
              "20638 -0.015566 -0.353256   -0.384457  \n",
              "20639 -0.015566 -0.353256   -0.384457  \n",
              "\n",
              "[20640 rows x 12 columns]"
            ],
            "text/html": [
              "\n",
              "  <div id=\"df-6f986be4-9fe4-4feb-bdb7-e1639e75c05a\">\n",
              "    <div class=\"colab-df-container\">\n",
              "      <div>\n",
              "<style scoped>\n",
              "    .dataframe tbody tr th:only-of-type {\n",
              "        vertical-align: middle;\n",
              "    }\n",
              "\n",
              "    .dataframe tbody tr th {\n",
              "        vertical-align: top;\n",
              "    }\n",
              "\n",
              "    .dataframe thead th {\n",
              "        text-align: right;\n",
              "    }\n",
              "</style>\n",
              "<table border=\"1\" class=\"dataframe\">\n",
              "  <thead>\n",
              "    <tr style=\"text-align: right;\">\n",
              "      <th></th>\n",
              "      <th>housing_median_age</th>\n",
              "      <th>total_rooms</th>\n",
              "      <th>total_bedrooms</th>\n",
              "      <th>population</th>\n",
              "      <th>households</th>\n",
              "      <th>median_income</th>\n",
              "      <th>median_house_value</th>\n",
              "      <th>&lt;1H OCEAN</th>\n",
              "      <th>INLAND</th>\n",
              "      <th>ISLAND</th>\n",
              "      <th>NEAR BAY</th>\n",
              "      <th>NEAR OCEAN</th>\n",
              "    </tr>\n",
              "  </thead>\n",
              "  <tbody>\n",
              "    <tr>\n",
              "      <th>0</th>\n",
              "      <td>0.982119</td>\n",
              "      <td>-0.804800</td>\n",
              "      <td>-0.967221</td>\n",
              "      <td>-0.974405</td>\n",
              "      <td>-0.977009</td>\n",
              "      <td>1.0</td>\n",
              "      <td>2.129580</td>\n",
              "      <td>-0.891134</td>\n",
              "      <td>-0.681873</td>\n",
              "      <td>-0.015566</td>\n",
              "      <td>2.830673</td>\n",
              "      <td>-0.384457</td>\n",
              "    </tr>\n",
              "    <tr>\n",
              "      <th>1</th>\n",
              "      <td>-0.607004</td>\n",
              "      <td>2.045841</td>\n",
              "      <td>1.358675</td>\n",
              "      <td>0.861418</td>\n",
              "      <td>1.669921</td>\n",
              "      <td>1.0</td>\n",
              "      <td>1.314124</td>\n",
              "      <td>-0.891134</td>\n",
              "      <td>-0.681873</td>\n",
              "      <td>-0.015566</td>\n",
              "      <td>2.830673</td>\n",
              "      <td>-0.384457</td>\n",
              "    </tr>\n",
              "    <tr>\n",
              "      <th>2</th>\n",
              "      <td>1.856137</td>\n",
              "      <td>-0.535733</td>\n",
              "      <td>-0.822001</td>\n",
              "      <td>-0.820757</td>\n",
              "      <td>-0.843616</td>\n",
              "      <td>1.0</td>\n",
              "      <td>1.258663</td>\n",
              "      <td>-0.891134</td>\n",
              "      <td>-0.681873</td>\n",
              "      <td>-0.015566</td>\n",
              "      <td>2.830673</td>\n",
              "      <td>-0.384457</td>\n",
              "    </tr>\n",
              "    <tr>\n",
              "      <th>3</th>\n",
              "      <td>1.856137</td>\n",
              "      <td>-0.624199</td>\n",
              "      <td>-0.714872</td>\n",
              "      <td>-0.766010</td>\n",
              "      <td>-0.733764</td>\n",
              "      <td>1.0</td>\n",
              "      <td>1.165072</td>\n",
              "      <td>-0.891134</td>\n",
              "      <td>-0.681873</td>\n",
              "      <td>-0.015566</td>\n",
              "      <td>2.830673</td>\n",
              "      <td>-0.384457</td>\n",
              "    </tr>\n",
              "    <tr>\n",
              "      <th>4</th>\n",
              "      <td>1.856137</td>\n",
              "      <td>-0.462393</td>\n",
              "      <td>-0.607743</td>\n",
              "      <td>-0.759828</td>\n",
              "      <td>-0.629142</td>\n",
              "      <td>0.0</td>\n",
              "      <td>1.172871</td>\n",
              "      <td>-0.891134</td>\n",
              "      <td>-0.681873</td>\n",
              "      <td>-0.015566</td>\n",
              "      <td>2.830673</td>\n",
              "      <td>-0.384457</td>\n",
              "    </tr>\n",
              "    <tr>\n",
              "      <th>...</th>\n",
              "      <td>...</td>\n",
              "      <td>...</td>\n",
              "      <td>...</td>\n",
              "      <td>...</td>\n",
              "      <td>...</td>\n",
              "      <td>...</td>\n",
              "      <td>...</td>\n",
              "      <td>...</td>\n",
              "      <td>...</td>\n",
              "      <td>...</td>\n",
              "      <td>...</td>\n",
              "      <td>...</td>\n",
              "    </tr>\n",
              "    <tr>\n",
              "      <th>20635</th>\n",
              "      <td>-0.289180</td>\n",
              "      <td>-0.444974</td>\n",
              "      <td>-0.383962</td>\n",
              "      <td>-0.512579</td>\n",
              "      <td>-0.443438</td>\n",
              "      <td>0.0</td>\n",
              "      <td>-1.115777</td>\n",
              "      <td>-0.891134</td>\n",
              "      <td>1.466479</td>\n",
              "      <td>-0.015566</td>\n",
              "      <td>-0.353256</td>\n",
              "      <td>-0.384457</td>\n",
              "    </tr>\n",
              "    <tr>\n",
              "      <th>20636</th>\n",
              "      <td>-0.845373</td>\n",
              "      <td>-0.888682</td>\n",
              "      <td>-0.917227</td>\n",
              "      <td>-0.944382</td>\n",
              "      <td>-1.008396</td>\n",
              "      <td>0.0</td>\n",
              "      <td>-1.124443</td>\n",
              "      <td>-0.891134</td>\n",
              "      <td>1.466479</td>\n",
              "      <td>-0.015566</td>\n",
              "      <td>-0.353256</td>\n",
              "      <td>-0.384457</td>\n",
              "    </tr>\n",
              "    <tr>\n",
              "      <th>20637</th>\n",
              "      <td>-0.924829</td>\n",
              "      <td>-0.174991</td>\n",
              "      <td>-0.119709</td>\n",
              "      <td>-0.369528</td>\n",
              "      <td>-0.174037</td>\n",
              "      <td>0.0</td>\n",
              "      <td>-0.992722</td>\n",
              "      <td>-0.891134</td>\n",
              "      <td>1.466479</td>\n",
              "      <td>-0.015566</td>\n",
              "      <td>-0.353256</td>\n",
              "      <td>-0.384457</td>\n",
              "    </tr>\n",
              "    <tr>\n",
              "      <th>20638</th>\n",
              "      <td>-0.845373</td>\n",
              "      <td>-0.355591</td>\n",
              "      <td>-0.300639</td>\n",
              "      <td>-0.604415</td>\n",
              "      <td>-0.393743</td>\n",
              "      <td>0.0</td>\n",
              "      <td>-1.058583</td>\n",
              "      <td>-0.891134</td>\n",
              "      <td>1.466479</td>\n",
              "      <td>-0.015566</td>\n",
              "      <td>-0.353256</td>\n",
              "      <td>-0.384457</td>\n",
              "    </tr>\n",
              "    <tr>\n",
              "      <th>20639</th>\n",
              "      <td>-1.004285</td>\n",
              "      <td>0.068407</td>\n",
              "      <td>0.192156</td>\n",
              "      <td>-0.033976</td>\n",
              "      <td>0.079670</td>\n",
              "      <td>0.0</td>\n",
              "      <td>-1.017853</td>\n",
              "      <td>-0.891134</td>\n",
              "      <td>1.466479</td>\n",
              "      <td>-0.015566</td>\n",
              "      <td>-0.353256</td>\n",
              "      <td>-0.384457</td>\n",
              "    </tr>\n",
              "  </tbody>\n",
              "</table>\n",
              "<p>20640 rows × 12 columns</p>\n",
              "</div>\n",
              "      <button class=\"colab-df-convert\" onclick=\"convertToInteractive('df-6f986be4-9fe4-4feb-bdb7-e1639e75c05a')\"\n",
              "              title=\"Convert this dataframe to an interactive table.\"\n",
              "              style=\"display:none;\">\n",
              "        \n",
              "  <svg xmlns=\"http://www.w3.org/2000/svg\" height=\"24px\"viewBox=\"0 0 24 24\"\n",
              "       width=\"24px\">\n",
              "    <path d=\"M0 0h24v24H0V0z\" fill=\"none\"/>\n",
              "    <path d=\"M18.56 5.44l.94 2.06.94-2.06 2.06-.94-2.06-.94-.94-2.06-.94 2.06-2.06.94zm-11 1L8.5 8.5l.94-2.06 2.06-.94-2.06-.94L8.5 2.5l-.94 2.06-2.06.94zm10 10l.94 2.06.94-2.06 2.06-.94-2.06-.94-.94-2.06-.94 2.06-2.06.94z\"/><path d=\"M17.41 7.96l-1.37-1.37c-.4-.4-.92-.59-1.43-.59-.52 0-1.04.2-1.43.59L10.3 9.45l-7.72 7.72c-.78.78-.78 2.05 0 2.83L4 21.41c.39.39.9.59 1.41.59.51 0 1.02-.2 1.41-.59l7.78-7.78 2.81-2.81c.8-.78.8-2.07 0-2.86zM5.41 20L4 18.59l7.72-7.72 1.47 1.35L5.41 20z\"/>\n",
              "  </svg>\n",
              "      </button>\n",
              "      \n",
              "  <style>\n",
              "    .colab-df-container {\n",
              "      display:flex;\n",
              "      flex-wrap:wrap;\n",
              "      gap: 12px;\n",
              "    }\n",
              "\n",
              "    .colab-df-convert {\n",
              "      background-color: #E8F0FE;\n",
              "      border: none;\n",
              "      border-radius: 50%;\n",
              "      cursor: pointer;\n",
              "      display: none;\n",
              "      fill: #1967D2;\n",
              "      height: 32px;\n",
              "      padding: 0 0 0 0;\n",
              "      width: 32px;\n",
              "    }\n",
              "\n",
              "    .colab-df-convert:hover {\n",
              "      background-color: #E2EBFA;\n",
              "      box-shadow: 0px 1px 2px rgba(60, 64, 67, 0.3), 0px 1px 3px 1px rgba(60, 64, 67, 0.15);\n",
              "      fill: #174EA6;\n",
              "    }\n",
              "\n",
              "    [theme=dark] .colab-df-convert {\n",
              "      background-color: #3B4455;\n",
              "      fill: #D2E3FC;\n",
              "    }\n",
              "\n",
              "    [theme=dark] .colab-df-convert:hover {\n",
              "      background-color: #434B5C;\n",
              "      box-shadow: 0px 1px 3px 1px rgba(0, 0, 0, 0.15);\n",
              "      filter: drop-shadow(0px 1px 2px rgba(0, 0, 0, 0.3));\n",
              "      fill: #FFFFFF;\n",
              "    }\n",
              "  </style>\n",
              "\n",
              "      <script>\n",
              "        const buttonEl =\n",
              "          document.querySelector('#df-6f986be4-9fe4-4feb-bdb7-e1639e75c05a button.colab-df-convert');\n",
              "        buttonEl.style.display =\n",
              "          google.colab.kernel.accessAllowed ? 'block' : 'none';\n",
              "\n",
              "        async function convertToInteractive(key) {\n",
              "          const element = document.querySelector('#df-6f986be4-9fe4-4feb-bdb7-e1639e75c05a');\n",
              "          const dataTable =\n",
              "            await google.colab.kernel.invokeFunction('convertToInteractive',\n",
              "                                                     [key], {});\n",
              "          if (!dataTable) return;\n",
              "\n",
              "          const docLinkHtml = 'Like what you see? Visit the ' +\n",
              "            '<a target=\"_blank\" href=https://colab.research.google.com/notebooks/data_table.ipynb>data table notebook</a>'\n",
              "            + ' to learn more about interactive tables.';\n",
              "          element.innerHTML = '';\n",
              "          dataTable['output_type'] = 'display_data';\n",
              "          await google.colab.output.renderOutput(dataTable, element);\n",
              "          const docLink = document.createElement('div');\n",
              "          docLink.innerHTML = docLinkHtml;\n",
              "          element.appendChild(docLink);\n",
              "        }\n",
              "      </script>\n",
              "    </div>\n",
              "  </div>\n",
              "  "
            ]
          },
          "metadata": {},
          "execution_count": 173
        }
      ]
    },
    {
      "cell_type": "code",
      "source": [
        "data_new = data_stand"
      ],
      "metadata": {
        "id": "RE2MXhjae0Jc"
      },
      "execution_count": 174,
      "outputs": []
    },
    {
      "cell_type": "code",
      "source": [
        "X = data_new.drop(['median_income'], axis=1)\n",
        "y = data_new['median_income']\n"
      ],
      "metadata": {
        "id": "BLFl2tJPPKAC"
      },
      "execution_count": 175,
      "outputs": []
    },
    {
      "cell_type": "code",
      "source": [
        "from sklearn.preprocessing import StandardScaler \n",
        "from sklearn.decomposition import PCA \n",
        "import seaborn as sns  \n",
        "sc = StandardScaler()\n",
        "X_train_std = sc.fit_transform(X)"
      ],
      "metadata": {
        "id": "e6W06ETRPqP7"
      },
      "execution_count": 176,
      "outputs": []
    },
    {
      "cell_type": "code",
      "source": [
        "scaled_data_train = X_train_std"
      ],
      "metadata": {
        "id": "3PMnbtPFZ5d3"
      },
      "execution_count": 177,
      "outputs": []
    },
    {
      "cell_type": "code",
      "source": [
        "cov_mat = np.cov(X_train_std.T)\n",
        "eigen_vals, eigen_vecs = np.linalg.eig(cov_mat)\n",
        "# cov_mat"
      ],
      "metadata": {
        "id": "A_4AL8IKPuzL"
      },
      "execution_count": 178,
      "outputs": []
    },
    {
      "cell_type": "code",
      "source": [
        "tot = sum(eigen_vals)\n",
        "var_exp = [(i / tot) for i in sorted(eigen_vals, reverse=True)]\n",
        "plt.bar(range(0,11), var_exp, alpha=0.5,\n",
        "        align='center')\n",
        "plt.legend(loc='best')\n",
        "plt.show()"
      ],
      "metadata": {
        "colab": {
          "base_uri": "https://localhost:8080/",
          "height": 283
        },
        "id": "Jj75lPcjP37b",
        "outputId": "cdd2ce5e-b7e3-4ef3-d25b-1a6894fc8409"
      },
      "execution_count": 179,
      "outputs": [
        {
          "output_type": "stream",
          "name": "stderr",
          "text": [
            "WARNING:matplotlib.legend:No handles with labels found to put in legend.\n"
          ]
        },
        {
          "output_type": "display_data",
          "data": {
            "text/plain": [
              "<Figure size 432x288 with 1 Axes>"
            ],
            "image/png": "[encoded data removed]"
          },
          "metadata": {
            "needs_background": "light"
          }
        }
      ]
    },
    {
      "cell_type": "code",
      "source": [
        "X = pd.DataFrame(X)\n",
        "Y = pd.DataFrame(y)\n",
        "\n",
        "from sklearn.preprocessing import StandardScaler \n",
        "from sklearn.decomposition import PCA \n",
        "import seaborn as sns  \n",
        "sc = StandardScaler()\n",
        "X_train_std = sc.fit_transform(X)\n",
        "\n",
        "scaled_data_train = pd.DataFrame(X_train_std)\n",
        "\n",
        "\n",
        "pca_train = PCA(n_components = 6)\n",
        "pca_train.fit(scaled_data_train)\n",
        "data_pca_X_train = pca_train.transform(scaled_data_train)\n",
        "data_pca_X_train = pd.DataFrame(data_pca_X_train)\n",
        "     "
      ],
      "metadata": {
        "id": "C0IyOCXtZdOH"
      },
      "execution_count": 180,
      "outputs": []
    },
    {
      "cell_type": "code",
      "source": [
        "sns.heatmap(data_pca_X_train.corr())"
      ],
      "metadata": {
        "colab": {
          "base_uri": "https://localhost:8080/",
          "height": 287
        },
        "id": "fBk9f2LVZdLc",
        "outputId": "7a4b4439-d867-4334-b055-591f701f729f"
      },
      "execution_count": 181,
      "outputs": [
        {
          "output_type": "execute_result",
          "data": {
            "text/plain": [
              "<matplotlib.axes._subplots.AxesSubplot at 0x7fcdb116ee80>"
            ]
          },
          "metadata": {},
          "execution_count": 181
        },
        {
          "output_type": "display_data",
          "data": {
            "text/plain": [
              "<Figure size 432x288 with 2 Axes>"
            ],
            "image/png": "[encoded data removed]"
          },
          "metadata": {
            "needs_background": "light"
          }
        }
      ]
    },
    {
      "cell_type": "code",
      "source": [
        "from sklearn.model_selection import train_test_split\n",
        "from sklearn.neighbors import KNeighborsClassifier\n",
        "\n",
        "N_train = int(len(data_pca_X_train) * 0.8)\n",
        "N_test = len(data_pca_X_train) - N_train\n",
        "\n",
        "X_train, X_test, Y_train, Y_test = train_test_split(data_pca_X_train, Y, \n",
        "                                                    train_size = N_train, test_size = N_test, \n",
        "                                                    stratify = Y, random_state = 6)"
      ],
      "metadata": {
        "id": "4SoDYySgZdI0"
      },
      "execution_count": 184,
      "outputs": []
    },
    {
      "cell_type": "code",
      "source": [
        "error_rates = []\n",
        "for i in np.arange(1, 30):\n",
        "    new_model = KNeighborsClassifier(n_neighbors = i)\n",
        "    new_model.fit(X_train, Y_train)\n",
        "    new_predictions = new_model.predict(X_test)\n",
        "    error_rates.append(1 - new_model.score(X_test, Y_test))\n",
        "\n",
        "min(error_rates)\n",
        "ind = error_rates.index(min(error_rates))\n",
        "\n"
      ],
      "metadata": {
        "colab": {
          "base_uri": "https://localhost:8080/"
        },
        "id": "xggW-HvPiUal",
        "outputId": "c94cfdb5-38e8-4623-a511-d63011da0775"
      },
      "execution_count": 196,
      "outputs": [
        {
          "output_type": "stream",
          "name": "stderr",
          "text": [
            "/usr/local/lib/python3.8/dist-packages/sklearn/neighbors/_classification.py:198: DataConversionWarning: A column-vector y was passed when a 1d array was expected. Please change the shape of y to (n_samples,), for example using ravel().\n",
            "  return self._fit(X, y)\n",
            "/usr/local/lib/python3.8/dist-packages/sklearn/neighbors/_classification.py:198: DataConversionWarning: A column-vector y was passed when a 1d array was expected. Please change the shape of y to (n_samples,), for example using ravel().\n",
            "  return self._fit(X, y)\n",
            "/usr/local/lib/python3.8/dist-packages/sklearn/neighbors/_classification.py:198: DataConversionWarning: A column-vector y was passed when a 1d array was expected. Please change the shape of y to (n_samples,), for example using ravel().\n",
            "  return self._fit(X, y)\n",
            "/usr/local/lib/python3.8/dist-packages/sklearn/neighbors/_classification.py:198: DataConversionWarning: A column-vector y was passed when a 1d array was expected. Please change the shape of y to (n_samples,), for example using ravel().\n",
            "  return self._fit(X, y)\n",
            "/usr/local/lib/python3.8/dist-packages/sklearn/neighbors/_classification.py:198: DataConversionWarning: A column-vector y was passed when a 1d array was expected. Please change the shape of y to (n_samples,), for example using ravel().\n",
            "  return self._fit(X, y)\n",
            "/usr/local/lib/python3.8/dist-packages/sklearn/neighbors/_classification.py:198: DataConversionWarning: A column-vector y was passed when a 1d array was expected. Please change the shape of y to (n_samples,), for example using ravel().\n",
            "  return self._fit(X, y)\n",
            "/usr/local/lib/python3.8/dist-packages/sklearn/neighbors/_classification.py:198: DataConversionWarning: A column-vector y was passed when a 1d array was expected. Please change the shape of y to (n_samples,), for example using ravel().\n",
            "  return self._fit(X, y)\n",
            "/usr/local/lib/python3.8/dist-packages/sklearn/neighbors/_classification.py:198: DataConversionWarning: A column-vector y was passed when a 1d array was expected. Please change the shape of y to (n_samples,), for example using ravel().\n",
            "  return self._fit(X, y)\n",
            "/usr/local/lib/python3.8/dist-packages/sklearn/neighbors/_classification.py:198: DataConversionWarning: A column-vector y was passed when a 1d array was expected. Please change the shape of y to (n_samples,), for example using ravel().\n",
            "  return self._fit(X, y)\n",
            "/usr/local/lib/python3.8/dist-packages/sklearn/neighbors/_classification.py:198: DataConversionWarning: A column-vector y was passed when a 1d array was expected. Please change the shape of y to (n_samples,), for example using ravel().\n",
            "  return self._fit(X, y)\n",
            "/usr/local/lib/python3.8/dist-packages/sklearn/neighbors/_classification.py:198: DataConversionWarning: A column-vector y was passed when a 1d array was expected. Please change the shape of y to (n_samples,), for example using ravel().\n",
            "  return self._fit(X, y)\n",
            "/usr/local/lib/python3.8/dist-packages/sklearn/neighbors/_classification.py:198: DataConversionWarning: A column-vector y was passed when a 1d array was expected. Please change the shape of y to (n_samples,), for example using ravel().\n",
            "  return self._fit(X, y)\n",
            "/usr/local/lib/python3.8/dist-packages/sklearn/neighbors/_classification.py:198: DataConversionWarning: A column-vector y was passed when a 1d array was expected. Please change the shape of y to (n_samples,), for example using ravel().\n",
            "  return self._fit(X, y)\n",
            "/usr/local/lib/python3.8/dist-packages/sklearn/neighbors/_classification.py:198: DataConversionWarning: A column-vector y was passed when a 1d array was expected. Please change the shape of y to (n_samples,), for example using ravel().\n",
            "  return self._fit(X, y)\n",
            "/usr/local/lib/python3.8/dist-packages/sklearn/neighbors/_classification.py:198: DataConversionWarning: A column-vector y was passed when a 1d array was expected. Please change the shape of y to (n_samples,), for example using ravel().\n",
            "  return self._fit(X, y)\n",
            "/usr/local/lib/python3.8/dist-packages/sklearn/neighbors/_classification.py:198: DataConversionWarning: A column-vector y was passed when a 1d array was expected. Please change the shape of y to (n_samples,), for example using ravel().\n",
            "  return self._fit(X, y)\n",
            "/usr/local/lib/python3.8/dist-packages/sklearn/neighbors/_classification.py:198: DataConversionWarning: A column-vector y was passed when a 1d array was expected. Please change the shape of y to (n_samples,), for example using ravel().\n",
            "  return self._fit(X, y)\n",
            "/usr/local/lib/python3.8/dist-packages/sklearn/neighbors/_classification.py:198: DataConversionWarning: A column-vector y was passed when a 1d array was expected. Please change the shape of y to (n_samples,), for example using ravel().\n",
            "  return self._fit(X, y)\n",
            "/usr/local/lib/python3.8/dist-packages/sklearn/neighbors/_classification.py:198: DataConversionWarning: A column-vector y was passed when a 1d array was expected. Please change the shape of y to (n_samples,), for example using ravel().\n",
            "  return self._fit(X, y)\n",
            "/usr/local/lib/python3.8/dist-packages/sklearn/neighbors/_classification.py:198: DataConversionWarning: A column-vector y was passed when a 1d array was expected. Please change the shape of y to (n_samples,), for example using ravel().\n",
            "  return self._fit(X, y)\n",
            "/usr/local/lib/python3.8/dist-packages/sklearn/neighbors/_classification.py:198: DataConversionWarning: A column-vector y was passed when a 1d array was expected. Please change the shape of y to (n_samples,), for example using ravel().\n",
            "  return self._fit(X, y)\n",
            "/usr/local/lib/python3.8/dist-packages/sklearn/neighbors/_classification.py:198: DataConversionWarning: A column-vector y was passed when a 1d array was expected. Please change the shape of y to (n_samples,), for example using ravel().\n",
            "  return self._fit(X, y)\n",
            "/usr/local/lib/python3.8/dist-packages/sklearn/neighbors/_classification.py:198: DataConversionWarning: A column-vector y was passed when a 1d array was expected. Please change the shape of y to (n_samples,), for example using ravel().\n",
            "  return self._fit(X, y)\n",
            "/usr/local/lib/python3.8/dist-packages/sklearn/neighbors/_classification.py:198: DataConversionWarning: A column-vector y was passed when a 1d array was expected. Please change the shape of y to (n_samples,), for example using ravel().\n",
            "  return self._fit(X, y)\n",
            "/usr/local/lib/python3.8/dist-packages/sklearn/neighbors/_classification.py:198: DataConversionWarning: A column-vector y was passed when a 1d array was expected. Please change the shape of y to (n_samples,), for example using ravel().\n",
            "  return self._fit(X, y)\n",
            "/usr/local/lib/python3.8/dist-packages/sklearn/neighbors/_classification.py:198: DataConversionWarning: A column-vector y was passed when a 1d array was expected. Please change the shape of y to (n_samples,), for example using ravel().\n",
            "  return self._fit(X, y)\n",
            "/usr/local/lib/python3.8/dist-packages/sklearn/neighbors/_classification.py:198: DataConversionWarning: A column-vector y was passed when a 1d array was expected. Please change the shape of y to (n_samples,), for example using ravel().\n",
            "  return self._fit(X, y)\n",
            "/usr/local/lib/python3.8/dist-packages/sklearn/neighbors/_classification.py:198: DataConversionWarning: A column-vector y was passed when a 1d array was expected. Please change the shape of y to (n_samples,), for example using ravel().\n",
            "  return self._fit(X, y)\n",
            "/usr/local/lib/python3.8/dist-packages/sklearn/neighbors/_classification.py:198: DataConversionWarning: A column-vector y was passed when a 1d array was expected. Please change the shape of y to (n_samples,), for example using ravel().\n",
            "  return self._fit(X, y)\n"
          ]
        }
      ]
    },
    {
      "cell_type": "code",
      "source": [
        "new_model = KNeighborsClassifier(n_neighbors = ind+1)\n",
        "new_model.fit(X_train, Y_train)\n",
        "new_predictions = new_model.predict(X_train)"
      ],
      "metadata": {
        "colab": {
          "base_uri": "https://localhost:8080/"
        },
        "id": "aH_usH6zjCZU",
        "outputId": "5c944e13-056f-414a-cade-a059712dd65c"
      },
      "execution_count": 194,
      "outputs": [
        {
          "output_type": "execute_result",
          "data": {
            "text/plain": [
              "0"
            ]
          },
          "metadata": {},
          "execution_count": 194
        }
      ]
    },
    {
      "cell_type": "code",
      "source": [
        "knn = KNeighborsClassifier(n_neighbors = ind+1)\n",
        "knn.fit(X_train, Y_train)\n",
        "\n",
        "\n",
        "y_test_predict = knn.predict(X_test)\n",
        "err_train = 1 - knn.score(X_train, Y_train)\n",
        "err_test = 1 - knn.score(X_test, Y_test)\n",
        "print('Ошибка на обучении: ' + str(err_train * 100) + '%')\n",
        "print('Ошибка на тесте: ' + str(err_test * 100) + '%')\n",
        "     "
      ],
      "metadata": {
        "colab": {
          "base_uri": "https://localhost:8080/"
        },
        "id": "Z5coDQHMRcpj",
        "outputId": "02b2d614-3b0f-4261-e764-c978157539f6"
      },
      "execution_count": 197,
      "outputs": [
        {
          "output_type": "stream",
          "name": "stderr",
          "text": [
            "/usr/local/lib/python3.8/dist-packages/sklearn/neighbors/_classification.py:198: DataConversionWarning: A column-vector y was passed when a 1d array was expected. Please change the shape of y to (n_samples,), for example using ravel().\n",
            "  return self._fit(X, y)\n"
          ]
        },
        {
          "output_type": "stream",
          "name": "stdout",
          "text": [
            "Ошибка на обучении: 20.61531007751938%\n",
            "Ошибка на тесте: 22.650193798449614%\n"
          ]
        }
      ]
    },
    {
      "cell_type": "markdown",
      "source": [
        "При использовании PCA ошибка стала больше\n",
        "\n",
        "\n"
      ],
      "metadata": {
        "id": "Xee_X0y2j0sW"
      }
    },
    {
      "cell_type": "markdown",
      "source": [
        "Ошибка без PCA:"
      ],
      "metadata": {
        "id": "UW3E_qTxkbzl"
      }
    },
    {
      "cell_type": "markdown",
      "source": [
        "err train = 0.14266046023733037;  err test = 0.1750245821042281"
      ],
      "metadata": {
        "id": "ZZanTM4TkgyU"
      }
    },
    {
      "cell_type": "markdown",
      "source": [
        "Отсюда следует сделать вывод, что для данной задачи нужны все параметры, тк при понижении размерности ошибка возрастает. "
      ],
      "metadata": {
        "id": "Wdyv0jqqkmME"
      }
    }
  ]
}